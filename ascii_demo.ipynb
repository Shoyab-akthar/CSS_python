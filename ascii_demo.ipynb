{
 "cells": [
  {
   "cell_type": "code",
   "execution_count": 5,
   "metadata": {},
   "outputs": [
    {
     "name": "stdout",
     "output_type": "stream",
     "text": [
      "R :::: 82\n",
      "<class 'int'>\n",
      "O :::: 79\n",
      "<class 'int'>\n",
      "H :::: 72\n",
      "<class 'int'>\n",
      "A :::: 65\n",
      "<class 'int'>\n",
      "N :::: 78\n",
      "<class 'int'>\n",
      "376\n"
     ]
    }
   ],
   "source": [
    "x1 = input(\"Enter a string:\")\n",
    "sum = 0\n",
    "for i in x1:\n",
    "    ch =i\n",
    "    x2 = ord(i)\n",
    "    print(ch, \"::::\", x2)\n",
    "    print(type(x2))\n",
    "    sum = sum + x2\n",
    "print(sum)"
   ]
  },
  {
   "cell_type": "code",
   "execution_count": 2,
   "metadata": {},
   "outputs": [
    {
     "name": "stdout",
     "output_type": "stream",
     "text": [
      "R :::: 82\n",
      "O :::: 79\n",
      "H :::: 72\n",
      "A :::: 65\n",
      "N :::: 78\n"
     ]
    }
   ],
   "source": [
    "x1 = input(\"Enter a string:\")\n",
    "x2 = input(\"Enter a string:\")\n",
    "x3 = input(\"Enter a string:\")\n",
    "x4 =x1 + x2 +x3 \n",
    "sum = 0\n",
    "for i in x4:\n",
    "    ch =i\n",
    "    x2 = ord(i)\n",
    "    print(ch, \"::::\", x2)"
   ]
  }
 ],
 "metadata": {
  "kernelspec": {
   "display_name": "Python 3",
   "language": "python",
   "name": "python3"
  },
  "language_info": {
   "codemirror_mode": {
    "name": "ipython",
    "version": 3
   },
   "file_extension": ".py",
   "mimetype": "text/x-python",
   "name": "python",
   "nbconvert_exporter": "python",
   "pygments_lexer": "ipython3",
   "version": "3.11.9"
  }
 },
 "nbformat": 4,
 "nbformat_minor": 2
}
