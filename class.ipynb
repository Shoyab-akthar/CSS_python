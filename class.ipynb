{
 "cells": [
  {
   "cell_type": "markdown",
   "metadata": {},
   "source": []
  },
  {
   "cell_type": "code",
   "execution_count": 34,
   "metadata": {},
   "outputs": [
    {
     "name": "stdout",
     "output_type": "stream",
     "text": [
      "app13 <class 'list'>\n",
      "app1\n",
      "app2\n",
      "app13\n",
      "app23\n",
      "app4\n",
      "app5\n"
     ]
    }
   ],
   "source": [
    "x= [\"app1\",\"app2\",\"app13\",\"app23\",\"app4\",\"app5\"]\n",
    "print(x[2], type(x))\n",
    "for i in x:\n",
    "    print(i)"
   ]
  },
  {
   "cell_type": "code",
   "execution_count": 35,
   "metadata": {},
   "outputs": [
    {
     "ename": "NameError",
     "evalue": "name 't3' is not defined",
     "output_type": "error",
     "traceback": [
      "\u001b[1;31m---------------------------------------------------------------------------\u001b[0m",
      "\u001b[1;31mNameError\u001b[0m                                 Traceback (most recent call last)",
      "Cell \u001b[1;32mIn[35], line 2\u001b[0m\n\u001b[0;32m      1\u001b[0m t1 \u001b[38;5;241m=\u001b[39m (\u001b[38;5;124m\"\u001b[39m\u001b[38;5;124mmom\u001b[39m\u001b[38;5;124m\"\u001b[39m,\u001b[38;5;124m\"\u001b[39m\u001b[38;5;124mdad\u001b[39m\u001b[38;5;124m\"\u001b[39m,\u001b[38;5;124m\"\u001b[39m\u001b[38;5;124mme\u001b[39m\u001b[38;5;124m\"\u001b[39m,\u001b[38;5;124m\"\u001b[39m\u001b[38;5;124myou\u001b[39m\u001b[38;5;124m\"\u001b[39m,\u001b[38;5;124m\"\u001b[39m\u001b[38;5;124mhe\u001b[39m\u001b[38;5;124m\"\u001b[39m,\u001b[38;5;124m\"\u001b[39m\u001b[38;5;124mshe\u001b[39m\u001b[38;5;124m\"\u001b[39m)\n\u001b[1;32m----> 2\u001b[0m l3 \u001b[38;5;241m=\u001b[39m \u001b[38;5;28mlist\u001b[39m(\u001b[43mt3\u001b[49m)\n\u001b[0;32m      3\u001b[0m pint\n",
      "\u001b[1;31mNameError\u001b[0m: name 't3' is not defined"
     ]
    }
   ],
   "source": [
    "t1 = (\"mom\",\"dad\",\"me\",\"you\",\"he\",\"she\")\n",
    "l3 = list(t3)\n",
    "pint"
   ]
  },
  {
   "cell_type": "markdown",
   "metadata": {},
   "source": [
    "range ()\n",
    "--------- 1\n",
    "- it has 3 blocks -- start initialise ===0\n",
    "                    + stop === 6 \n",
    "                    + step ===6\n",
    "- range(6)====> if we give single argument , by default the python compiler assigns default values ---- range(0,6,1)\n",
    "\n",
    "- input ()---it has ti=o get dynamic value , otherwse it has to return string object \n",
    "- int()----it has to convert into integer type \n",
    "- float()\n",
    "- str()\n",
    "- byte()---into byte type \n",
    "--------------------- \n",
    "- dynamic  Elements we can put into list obj \n",
    "\n",
    "\n"
   ]
  },
  {
   "cell_type": "code",
   "execution_count": null,
   "metadata": {},
   "outputs": [
    {
     "name": "stdout",
     "output_type": "stream",
     "text": [
      "5\n"
     ]
    }
   ],
   "source": [
    "n1 = int(input(\"enter the value \"))\n",
    "print(n1)"
   ]
  },
  {
   "cell_type": "code",
   "execution_count": null,
   "metadata": {},
   "outputs": [
    {
     "name": "stdout",
     "output_type": "stream",
     "text": [
      "10\n",
      "9\n",
      "8\n",
      "7\n",
      "6\n",
      "5\n",
      "4\n",
      "3\n",
      "2\n",
      "1\n",
      "1\n",
      "2\n",
      "3\n",
      "4\n",
      "5\n",
      "6\n",
      "7\n",
      "8\n",
      "9\n",
      "10\n"
     ]
    }
   ],
   "source": [
    "# display range of numbers\n",
    "for i in range(10,0,-1):\n",
    "    print(i)\n",
    "# display 0-10\n",
    "for i in range(1,11,1):\n",
    "    print(i)"
   ]
  },
  {
   "cell_type": "code",
   "execution_count": null,
   "metadata": {},
   "outputs": [
    {
     "name": "stdout",
     "output_type": "stream",
     "text": [
      "0\n",
      "2\n",
      "4\n",
      "6\n",
      "8\n",
      "10\n",
      "12\n",
      "14\n"
     ]
    }
   ],
   "source": [
    "#display given range even numbers \n",
    "r1 = int(input(\"enter range\"))\n",
    "for i in range(0,r1,2):\n",
    "    print(i)\n",
    "         "
   ]
  },
  {
   "cell_type": "code",
   "execution_count": null,
   "metadata": {},
   "outputs": [
    {
     "name": "stdout",
     "output_type": "stream",
     "text": [
      "list[1]\n",
      "list[3]\n",
      "list[5]\n",
      "list[7]\n",
      "list[9]\n",
      "list[11]\n",
      "list[13]\n"
     ]
    }
   ],
   "source": [
    "#display given range odd numbers \n",
    "r1 = int(input(\"enter range\"))\n",
    "for i in range(1,r1,2):\n",
    "    \n",
    "\n",
    "   \n",
    "    \n",
    "    \n",
    "    "
   ]
  },
  {
   "cell_type": "code",
   "execution_count": null,
   "metadata": {},
   "outputs": [],
   "source": []
  },
  {
   "cell_type": "code",
   "execution_count": null,
   "metadata": {},
   "outputs": [
    {
     "name": "stdout",
     "output_type": "stream",
     "text": [
      "[25, 36, 49, 64, 81]\n"
     ]
    }
   ],
   "source": [
    "#Square values \n",
    "l5 = []\n",
    "for i in range(5,10):\n",
    "    l5.append(i**2)\n",
    "print(l5) "
   ]
  },
  {
   "cell_type": "markdown",
   "metadata": {},
   "source": [
    "## Mapping data type -- Dictionary (Dict)\n",
    "- stoes key n values \n",
    "- represented by  {}\n",
    "- it cannot store duplicate values \n",
    "-  it can store duplicate values \n",
    "- mutable  obj type \n",
    "- we except insertion order \n",
    "- store primitive values \n",
    "- supports construtor \n",
    "- supports looping to iterate\n",
    "\n",
    "# in-built func\n",
    "-  get() --  it fetches key name and displays value \n",
    " - copy():\n",
    " - keys()---> fetches only keys \n",
    " - values()--- fetches only values \n",
    " - items() -- fetches both key and value \n",
    " - pop() -- emove given key value \n",
    " - popitem() -- remove last key fron dict\n",
    " - sort()-- sorts dict obj\n",
    " \n",
    " # Nested dict \n",
    " - { \n",
    " - -   \"eid\" : 101,\n",
    "  -  \"ename\" : \"suma\",\n",
    "   - \"esal\" : 15000\n",
    " - }  \n",
    "  - { \n",
    " - -   \"eid\" : 102,\n",
    "  -  \"ename\" : \"suma1\",\n",
    "   - \"esal\" : 15000\n",
    " - }  \n",
    "  - { \n",
    " - -   \"eid\" : 103,\n",
    "  -  \"ename\" : \"suma3\",\n",
    "   - \"esal\" : 15000\n",
    " - }  \n"
   ]
  },
  {
   "cell_type": "code",
   "execution_count": null,
   "metadata": {},
   "outputs": [
    {
     "name": "stdout",
     "output_type": "stream",
     "text": [
      "value ::: arif\n",
      "keys::: eid\n",
      "keys::: ename\n",
      "keys::: esal\n",
      "keys::: dept\n"
     ]
    }
   ],
   "source": [
    "emp= {\n",
    "    \"eid\" : 101,\n",
    "    \"ename\": \"arif\",\n",
    "    \"esal\" : 15000,\n",
    "    \"dept\" : [1,2,3,4,5,6]\n",
    "}\n",
    "x = emp.get(\"ename\")\n",
    "print(\"value :::\", x)\n",
    "# display all keys\n",
    "for i in emp:\n",
    "    print(\"keys:::\",i)"
   ]
  },
  {
   "cell_type": "code",
   "execution_count": null,
   "metadata": {},
   "outputs": [
    {
     "name": "stdout",
     "output_type": "stream",
     "text": [
      "keys:: eid\n",
      "keys:: ename\n",
      "keys:: esal\n",
      "keys:: dept\n"
     ]
    }
   ],
   "source": [
    "# display all keys\n",
    "for i in emp.keys():\n",
    "    print(\"keys::\",i)"
   ]
  },
  {
   "cell_type": "code",
   "execution_count": null,
   "metadata": {},
   "outputs": [
    {
     "name": "stdout",
     "output_type": "stream",
     "text": [
      "values:: 101\n",
      "values:: arif\n",
      "values:: 15000\n",
      "values:: [1, 2, 3, 4, 5, 6]\n",
      "++++++++++++++\n",
      "key:: eid values:: 101\n",
      "key:: ename values:: arif\n",
      "key:: esal values:: 15000\n",
      "key:: dept values:: [1, 2, 3, 4, 5, 6]\n",
      "++++++++++++++\n",
      "eid :::: 101\n"
     ]
    },
    {
     "ename": "NameError",
     "evalue": "name 'd2' is not defined",
     "output_type": "error",
     "traceback": [
      "\u001b[1;31m---------------------------------------------------------------------------\u001b[0m",
      "\u001b[1;31mNameError\u001b[0m                                 Traceback (most recent call last)",
      "Cell \u001b[1;32mIn[32], line 14\u001b[0m\n\u001b[0;32m     12\u001b[0m \u001b[38;5;28mprint\u001b[39m(k2, \u001b[38;5;124m\"\u001b[39m\u001b[38;5;124m::::\u001b[39m\u001b[38;5;124m\"\u001b[39m,s2 )\n\u001b[0;32m     13\u001b[0m \u001b[38;5;66;03m#removing the key\u001b[39;00m\n\u001b[1;32m---> 14\u001b[0m d \u001b[38;5;241m=\u001b[39m \u001b[38;5;28minput\u001b[39m(\u001b[38;5;124m\"\u001b[39m\u001b[38;5;124menter value:\u001b[39m\u001b[38;5;124m\"\u001b[39m,\u001b[43md2\u001b[49m)\n\u001b[0;32m     15\u001b[0m d2\u001b[38;5;241m=\u001b[39memp\u001b[38;5;241m.\u001b[39mpop(d)\n\u001b[0;32m     16\u001b[0m \u001b[38;5;28mprint\u001b[39m(\u001b[38;5;124m\"\u001b[39m\u001b[38;5;124mremoved val:\u001b[39m\u001b[38;5;124m\"\u001b[39m,d2)  \n",
      "\u001b[1;31mNameError\u001b[0m: name 'd2' is not defined"
     ]
    }
   ],
   "source": [
    "#iterating values\n",
    "for v1 in emp.values():\n",
    "    print(\"values::\", v1)\n",
    "print(\"++++++++++++++\")\n",
    "#iterating both \n",
    "for k,v in emp.items():\n",
    "    print(\"key::\",k, \"values::\", v)\n",
    "print(\"++++++++++++++\")\n",
    "# how to search given key value \n",
    "k2 = input(\"enter a key ...\")\n",
    "s2 = emp.get(k2)\n",
    "print(k2, \"::::\",s2 )\n"
   ]
  },
  {
   "cell_type": "code",
   "execution_count": null,
   "metadata": {},
   "outputs": [],
   "source": []
  },
  {
   "cell_type": "code",
   "execution_count": null,
   "metadata": {},
   "outputs": [
    {
     "ename": "NameError",
     "evalue": "name 'd2' is not defined",
     "output_type": "error",
     "traceback": [
      "\u001b[1;31m---------------------------------------------------------------------------\u001b[0m",
      "\u001b[1;31mNameError\u001b[0m                                 Traceback (most recent call last)",
      "Cell \u001b[1;32mIn[33], line 2\u001b[0m\n\u001b[0;32m      1\u001b[0m \u001b[38;5;66;03m#removing the key\u001b[39;00m\n\u001b[1;32m----> 2\u001b[0m d \u001b[38;5;241m=\u001b[39m \u001b[38;5;28minput\u001b[39m(\u001b[38;5;124m\"\u001b[39m\u001b[38;5;124menter value:\u001b[39m\u001b[38;5;124m\"\u001b[39m,\u001b[43md2\u001b[49m)\n\u001b[0;32m      3\u001b[0m d2 \u001b[38;5;241m=\u001b[39memp\u001b[38;5;241m.\u001b[39mpop(d)\n\u001b[0;32m      4\u001b[0m \u001b[38;5;28mprint\u001b[39m(\u001b[38;5;124m\"\u001b[39m\u001b[38;5;124mremoved val:\u001b[39m\u001b[38;5;124m\"\u001b[39m,d2)  \n",
      "\u001b[1;31mNameError\u001b[0m: name 'd2' is not defined"
     ]
    }
   ],
   "source": [
    "#removing the key\n",
    "d = input(\"enter value:\",d2)\n",
    "d2 =emp.pop(d)\n",
    "print(\"removed val:\",d2)  "
   ]
  },
  {
   "cell_type": "code",
   "execution_count": 37,
   "metadata": {},
   "outputs": [
    {
     "name": "stdout",
     "output_type": "stream",
     "text": [
      "after removing last key: ('scourses', ['java', 'python'])\n",
      "after remove sname from dict: {'sid': 111}\n",
      "after calling copy func: {'sid': 111}\n",
      "{'sid': 111}\n"
     ]
    }
   ],
   "source": [
    "stu= {\n",
    "    \"sid\":111,\n",
    "    \"sname\":\"rao\",\n",
    "    \"scourses\": [\"java\",\"python\"]\n",
    "    \n",
    "}\n",
    "r1=stu.popitem()\n",
    "print(\"after removing last key:\",r1)\n",
    "del stu[\"sname\"]\n",
    "print(\"after remove sname from dict:\",stu)\n",
    "myd1=stu.copy()\n",
    "print(\"after calling copy func:\",myd1)\n",
    "print(myd1)"
   ]
  },
  {
   "cell_type": "code",
   "execution_count": 71,
   "metadata": {},
   "outputs": [
    {
     "ename": "NameError",
     "evalue": "name 'sort' is not defined",
     "output_type": "error",
     "traceback": [
      "\u001b[1;31m---------------------------------------------------------------------------\u001b[0m",
      "\u001b[1;31mNameError\u001b[0m                                 Traceback (most recent call last)",
      "Cell \u001b[1;32mIn[71], line 7\u001b[0m\n\u001b[0;32m      2\u001b[0m s\u001b[38;5;241m=\u001b[39m{\u001b[38;5;241m2\u001b[39m:\u001b[38;5;124m\"\u001b[39m\u001b[38;5;124map1\u001b[39m\u001b[38;5;124m\"\u001b[39m,\u001b[38;5;241m1\u001b[39m:\u001b[38;5;124m\"\u001b[39m\u001b[38;5;124map2\u001b[39m\u001b[38;5;124m\"\u001b[39m,\u001b[38;5;241m4\u001b[39m:\u001b[38;5;124m\"\u001b[39m\u001b[38;5;124map3\u001b[39m\u001b[38;5;124m\"\u001b[39m,\u001b[38;5;241m3\u001b[39m:\u001b[38;5;124m\"\u001b[39m\u001b[38;5;124map4\u001b[39m\u001b[38;5;124m\"\u001b[39m}\n\u001b[0;32m      3\u001b[0m \u001b[38;5;66;03m# l1=list(s)\u001b[39;00m\n\u001b[0;32m      4\u001b[0m \u001b[38;5;66;03m# l1.sort()\u001b[39;00m\n\u001b[0;32m      5\u001b[0m \u001b[38;5;66;03m# print(l1)\u001b[39;00m\n\u001b[0;32m      6\u001b[0m \u001b[38;5;66;03m# print(s.keys())\u001b[39;00m\n\u001b[1;32m----> 7\u001b[0m p\u001b[38;5;241m=\u001b[39m\u001b[43msort\u001b[49m(s)\n\u001b[0;32m      8\u001b[0m \u001b[38;5;28mprint\u001b[39m(p)\n",
      "\u001b[1;31mNameError\u001b[0m: name 'sort' is not defined"
     ]
    }
   ],
   "source": [
    "#sorting the dict\n",
    "s={2:\"ap1\",1:\"ap2\",4:\"ap3\",3:\"ap4\"}\n",
    "# l1=list(s)\n",
    "# l1.sort()\n",
    "# print(l1)\n",
    "print(p)"
   ]
  },
  {
   "cell_type": "code",
   "execution_count": 1,
   "metadata": {},
   "outputs": [
    {
     "name": "stdout",
     "output_type": "stream",
     "text": [
      "cse\n"
     ]
    }
   ],
   "source": [
    "#nested dict \n",
    "d1 = {\n",
    "    \"dept\" :{\n",
    "        \"did\" : 102,\n",
    "        \"dname\" : \"cse\"\n",
    "    },\n",
    "    \n",
    "    \"emp\":{\n",
    "        \"eid\" : 9,\n",
    "        \"ename\" :\"arif\"\n",
    "        \n",
    "    }\n",
    "}\n",
    "\n",
    "print(d1[\"dept\"][\"dname\"])"
   ]
  },
  {
   "cell_type": "code",
   "execution_count": 14,
   "metadata": {},
   "outputs": [
    {
     "name": "stdout",
     "output_type": "stream",
     "text": [
      "pvrao\n",
      "male\n",
      "mba\n",
      "person :::: {'name': 'pvrao', 'age': 28}\n",
      "gen :::: {'htype1': 'male', 'htype2': 'female'}\n",
      "quali :::: {'q1': 'mba', 'q2': 'mb2'}\n"
     ]
    }
   ],
   "source": [
    "person = {\n",
    "    \"name\" :\"pvrao\",\n",
    "    \"age\" : 28\n",
    "}\n",
    "\n",
    "gen = {\n",
    "    \"htype1\" : \"male\",\n",
    "    \"htype2\" : \"female\"\n",
    "}\n",
    "quali={\n",
    "    \"q1\": \"mba\",\n",
    "    \"q2\": \"mb2\"\n",
    "}\n",
    "\n",
    "mydict ={\n",
    "    \"person\": person,\n",
    "    \"gen\" : gen,\n",
    "    \"quali\": quali\n",
    "        \n",
    "}\n",
    "\n",
    "print(mydict[\"person\"][(\"name\")])\n",
    "print(mydict[\"gen\"][\"htype1\"])\n",
    "print(mydict[\"quali\"][\"q1\"])\n",
    "\n",
    "#getting key nn values \n",
    "\n",
    "for x,y  in mydict.items():\n",
    "    print(x,\"::::\",y)"
   ]
  },
  {
   "cell_type": "markdown",
   "metadata": {},
   "source": []
  }
 ],
 "metadata": {
  "kernelspec": {
   "display_name": "Python 3",
   "language": "python",
   "name": "python3"
  },
  "language_info": {
   "codemirror_mode": {
    "name": "ipython",
    "version": 3
   },
   "file_extension": ".py",
   "mimetype": "text/x-python",
   "name": "python",
   "nbconvert_exporter": "python",
   "pygments_lexer": "ipython3",
   "version": "3.11.9"
  },
  "orig_nbformat": 4
 },
 "nbformat": 4,
 "nbformat_minor": 2
}
