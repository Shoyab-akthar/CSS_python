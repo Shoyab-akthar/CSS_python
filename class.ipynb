{
 "cells": [
  {
   "cell_type": "markdown",
   "metadata": {},
   "source": []
  },
  {
   "cell_type": "code",
   "execution_count": 1,
   "metadata": {},
   "outputs": [
    {
     "name": "stdout",
     "output_type": "stream",
     "text": [
      "app13 <class 'list'>\n",
      "app1\n",
      "app2\n",
      "app13\n",
      "app23\n",
      "app4\n",
      "app5\n"
     ]
    }
   ],
   "source": [
    "x= [\"app1\",\"app2\",\"app13\",\"app23\",\"app4\",\"app5\"]\n",
    "print(x[2], type(x))\n",
    "for i in x:\n",
    "    print(i)"
   ]
  },
  {
   "cell_type": "code",
   "execution_count": null,
   "metadata": {},
   "outputs": [],
   "source": [
    "t1 = (\"mom\",\"dad\",\"me\",\"you\",\"he\",\"she\")\n",
    "l3 = list(t3)\n",
    "pint"
   ]
  },
  {
   "cell_type": "markdown",
   "metadata": {},
   "source": [
    "range ()\n",
    "--------- 1\n",
    "- it has 3 blocks -- start initialise ===0\n",
    "                    + stop === 6 \n",
    "                    + step ===6\n",
    "- range(6)====> if we give single argument , by default the python compiler assigns default values ---- range(0,6,1)\n",
    "\n",
    "- input ()---it has ti=o get dynamic value , otherwse it has to return string object \n",
    "- int()----it has to convert into integer type \n",
    "- float()\n",
    "- str()\n",
    "- byte()---into byte type \n",
    "--------------------- \n",
    "- dynamic  Elements we can put into list obj \n",
    "\n",
    "\n"
   ]
  },
  {
   "cell_type": "code",
   "execution_count": 1,
   "metadata": {},
   "outputs": [
    {
     "name": "stdout",
     "output_type": "stream",
     "text": [
      "5\n"
     ]
    }
   ],
   "source": [
    "n1 = int(input(\"enter the value \"))\n",
    "print(n1)"
   ]
  },
  {
   "cell_type": "code",
   "execution_count": 3,
   "metadata": {},
   "outputs": [
    {
     "name": "stdout",
     "output_type": "stream",
     "text": [
      "10\n",
      "9\n",
      "8\n",
      "7\n",
      "6\n",
      "5\n",
      "4\n",
      "3\n",
      "2\n",
      "1\n",
      "1\n",
      "2\n",
      "3\n",
      "4\n",
      "5\n",
      "6\n",
      "7\n",
      "8\n",
      "9\n",
      "10\n"
     ]
    }
   ],
   "source": [
    "# display range of numbers\n",
    "for i in range(10,0,-1):\n",
    "    print(i)\n",
    "# display 0-10\n",
    "for i in range(1,11,1):\n",
    "    print(i)"
   ]
  },
  {
   "cell_type": "code",
   "execution_count": 4,
   "metadata": {},
   "outputs": [
    {
     "name": "stdout",
     "output_type": "stream",
     "text": [
      "0\n",
      "2\n",
      "4\n",
      "6\n",
      "8\n",
      "10\n",
      "12\n",
      "14\n"
     ]
    }
   ],
   "source": [
    "#display given range even numbers \n",
    "r1 = int(input(\"enter range\"))\n",
    "for i in range(0,r1,2):\n",
    "    print(i)\n",
    "         "
   ]
  },
  {
   "cell_type": "code",
   "execution_count": 11,
   "metadata": {},
   "outputs": [
    {
     "name": "stdout",
     "output_type": "stream",
     "text": [
      "list[1]\n",
      "list[3]\n",
      "list[5]\n",
      "list[7]\n",
      "list[9]\n",
      "list[11]\n",
      "list[13]\n"
     ]
    }
   ],
   "source": [
    "#display given range odd numbers \n",
    "r1 = int(input(\"enter range\"))\n",
    "for i in range(1,r1,2):\n",
    "    \n",
    "\n",
    "   \n",
    "    \n",
    "    \n",
    "    "
   ]
  },
  {
   "cell_type": "code",
   "execution_count": null,
   "metadata": {},
   "outputs": [],
   "source": []
  },
  {
   "cell_type": "code",
   "execution_count": 26,
   "metadata": {},
   "outputs": [
    {
     "name": "stdout",
     "output_type": "stream",
     "text": [
      "[25, 36, 49, 64, 81]\n"
     ]
    }
   ],
   "source": [
    "#Square values \n",
    "l5 = []\n",
    "for i in range(5,10):\n",
    "    l5.append(i**2)\n",
    "print(l5) "
   ]
  },
  {
   "cell_type": "markdown",
   "metadata": {},
   "source": [
    "## Mapping data type -- Dictionary (Dict)\n",
    "- stoes key n values \n",
    "- represented by  {}\n",
    "- it cannot store duplicate values \n",
    "-  it can store duplicate values \n",
    "- mutable  obj type \n",
    "- we except insertion order \n",
    "- store primitive values \n",
    "- supports construtor \n",
    "- supports looping to iterate\n",
    "\n",
    "# in-built func\n",
    "-  get() --  it fetches key name and displays value \n",
    " - copy():\n",
    " - keys()---> fetches only keys \n",
    " - values()--- fetches only values \n",
    " - items() -- fetches both key and value \n",
    " - pop() -- emove given key value \n",
    " - popitem() -- remove last key fron dict\n",
    " - sort()-- sorts dict obj\n",
    " \n",
    " # Nested dict \n",
    " - { \n",
    " - -   \"eid\" : 101,\n",
    "  -  \"ename\" : \"suma\",\n",
    "   - \"esal\" : 15000\n",
    " - }  \n",
    "  - { \n",
    " - -   \"eid\" : 102,\n",
    "  -  \"ename\" : \"suma1\",\n",
    "   - \"esal\" : 15000\n",
    " - }  \n",
    "  - { \n",
    " - -   \"eid\" : 103,\n",
    "  -  \"ename\" : \"suma3\",\n",
    "   - \"esal\" : 15000\n",
    " - }  \n"
   ]
  },
  {
   "cell_type": "code",
   "execution_count": 12,
   "metadata": {},
   "outputs": [
    {
     "name": "stdout",
     "output_type": "stream",
     "text": [
      "value ::: arif\n",
      "keys::: eid\n",
      "keys::: ename\n",
      "keys::: esal\n",
      "keys::: dept\n"
     ]
    }
   ],
   "source": [
    "emp= {\n",
    "    \"eid\" : 101,\n",
    "    \"ename\": \"arif\",\n",
    "    \"esal\" : 15000,\n",
    "    \"dept\" : 1\n",
    "}\n",
    "x = emp.get(\"ename\")\n",
    "print(\"value :::\", x)\n",
    "# display all keys\n",
    "for i in emp:\n",
    "    print(\"keys:::\",i)"
   ]
  },
  {
   "cell_type": "code",
   "execution_count": 10,
   "metadata": {},
   "outputs": [
    {
     "name": "stdout",
     "output_type": "stream",
     "text": [
      "keys:: eid\n",
      "keys:: ename\n",
      "keys:: esal\n",
      "keys:: dept\n"
     ]
    }
   ],
   "source": [
    "# display all keys\n",
    "for i in emp.keys():\n",
    "    print(\"keys::\",i)"
   ]
  },
  {
   "cell_type": "code",
   "execution_count": 14,
   "metadata": {},
   "outputs": [
    {
     "name": "stdout",
     "output_type": "stream",
     "text": [
      "values:: 101\n",
      "values:: arif\n",
      "values:: 15000\n",
      "values:: 1\n"
     ]
    },
    {
     "ename": "TypeError",
     "evalue": "cannot unpack non-iterable int object",
     "output_type": "error",
     "traceback": [
      "\u001b[1;31m---------------------------------------------------------------------------\u001b[0m",
      "\u001b[1;31mTypeError\u001b[0m                                 Traceback (most recent call last)",
      "Cell \u001b[1;32mIn[14], line 5\u001b[0m\n\u001b[0;32m      3\u001b[0m     \u001b[38;5;28mprint\u001b[39m(\u001b[38;5;124m\"\u001b[39m\u001b[38;5;124mvalues::\u001b[39m\u001b[38;5;124m\"\u001b[39m, v1)\n\u001b[0;32m      4\u001b[0m \u001b[38;5;66;03m#iterating both \u001b[39;00m\n\u001b[1;32m----> 5\u001b[0m \u001b[38;5;28;01mfor\u001b[39;00m k,v \u001b[38;5;129;01min\u001b[39;00m emp\u001b[38;5;241m.\u001b[39mvalues():\n\u001b[0;32m      6\u001b[0m     \u001b[38;5;28mprint\u001b[39m(\u001b[38;5;124m\"\u001b[39m\u001b[38;5;124mkey::\u001b[39m\u001b[38;5;124m\"\u001b[39m,k, \u001b[38;5;124m\"\u001b[39m\u001b[38;5;124mvalues::\u001b[39m\u001b[38;5;124m\"\u001b[39m, v1)\n",
      "\u001b[1;31mTypeError\u001b[0m: cannot unpack non-iterable int object"
     ]
    }
   ],
   "source": [
    "#iterating values\n",
    "for v1 in emp.values():\n",
    "    print(\"values::\", v1)\n",
    "#iterating both \n",
    "for k,v in emp.values():\n",
    "    print(\"key::\",k, \"values::\", v1)"
   ]
  }
 ],
 "metadata": {
  "kernelspec": {
   "display_name": "Python 3",
   "language": "python",
   "name": "python3"
  },
  "language_info": {
   "codemirror_mode": {
    "name": "ipython",
    "version": 3
   },
   "file_extension": ".py",
   "mimetype": "text/x-python",
   "name": "python",
   "nbconvert_exporter": "python",
   "pygments_lexer": "ipython3",
   "version": "3.11.9"
  },
  "orig_nbformat": 4
 },
 "nbformat": 4,
 "nbformat_minor": 2
}
