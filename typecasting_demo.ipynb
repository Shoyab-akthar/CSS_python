{
 "cells": [
  {
   "cell_type": "code",
   "execution_count": 4,
   "metadata": {},
   "outputs": [
    {
     "name": "stdout",
     "output_type": "stream",
     "text": [
      "10 10.0 30.0 20 45.0 (67+0j) (17.9+0j) (17.9+0j)\n"
     ]
    }
   ],
   "source": [
    "x = 10 \n",
    "x1 = int(x)\n",
    "x2 = float(x)\n",
    "x3 = float(30)\n",
    "x4 = int(\"20\")\n",
    "x5 = float(\"45\")\n",
    "x6 = complex(67)\n",
    "x7 = complex(17.9)\n",
    "x8 = complex(\"17.9\")\n",
    "print(x1,x2,x3,x4,x5,x6,x7,x8)"
   ]
  },
  {
   "cell_type": "markdown",
   "metadata": {},
   "source": [
    "- int value can be converted into complex but complex cannot be done into int\n"
   ]
  }
 ],
 "metadata": {
  "kernelspec": {
   "display_name": "Python 3",
   "language": "python",
   "name": "python3"
  },
  "language_info": {
   "codemirror_mode": {
    "name": "ipython",
    "version": 3
   },
   "file_extension": ".py",
   "mimetype": "text/x-python",
   "name": "python",
   "nbconvert_exporter": "python",
   "pygments_lexer": "ipython3",
   "version": "3.11.9"
  }
 },
 "nbformat": 4,
 "nbformat_minor": 2
}
