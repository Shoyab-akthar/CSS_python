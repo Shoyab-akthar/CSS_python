{
 "cells": [
  {
   "cell_type": "code",
   "execution_count": null,
   "metadata": {},
   "outputs": [],
   "source": []
  },
  {
   "cell_type": "markdown",
   "metadata": {},
   "source": [
    "## set datatype\n",
    "-  it can store unique objs\n",
    "-  represented by {}\n",
    "- cannot store duplicate  objs\n",
    "- cannot expect insertion order \n",
    "- immutable obj\n",
    "- supports constructor ()\n",
    "\n",
    "* list([1,2,3,4])\n",
    "* set({\"hi\",\"bye\"})\n",
    "* tuple((1,2,3))\n",
    "* dict({\"k1\": 1,\"k2\" : 2})\n",
    "\n",
    "- in-built func in SET datatype\n",
    "- add()\n",
    "- remove()\n",
    "- discard()\n",
    "- intersection()\n",
    "- intersection_update()\n",
    "- union() and update()\n",
    "- del\n",
    "- difference()\n",
    "- difference_update()\n",
    "- symmetric_difference()\n",
    "- symmetric _difference_update()\n"
   ]
  },
  {
   "cell_type": "markdown",
   "metadata": {},
   "source": [
    "-  add() --> adds new obj \n",
    "-  union() --> joining all items represented by '|'\n",
    "- update() --> set2 items is going to insert into set1\n",
    "- intersection() --> it keeps duplicate items  represented by '&'\n",
    "- difference() --> keeps items those not present in set2 represented by '-' \n",
    "- difference_update() -->keeps items those not present in set2 represented by '-=',it cant return new set obj and it willl change actual set obj \n",
    "- symmetric_differeence() --> it keeps items not present in two sets represented by '^', returns new set obj\n",
    "- symmetric_difference_update() --> it keeps items not present in two sets represented by '^=', doesnt returns new set obj\n",
    "- \n",
    "- "
   ]
  },
  {
   "cell_type": "code",
   "execution_count": 24,
   "metadata": {},
   "outputs": [
    {
     "name": "stdout",
     "output_type": "stream",
     "text": [
      "{'type', 'rao', 'welcome', 'hello', 'nani', 'apple', 'suma', 'aws', 'kavitha'}\n",
      "After removing duplicate obj::: {'hari', 'siva', 'srinu'}\n",
      "{'pvrao', 'pavan', 'svrao'}\n",
      "print s8 : {'apple'}\n",
      "{'apple'}\n",
      "{'apple'}\n"
     ]
    }
   ],
   "source": [
    "s1 = {\"apple\",\"suma\",\"nani\",\"hello\",\"type\"}\n",
    "s2 = {\"welcome\",\"aws\",\"apple\"}\n",
    "s3 = {\"kavitha\",\"rao\"}\n",
    "#union \n",
    "s4 = s1|s2|s3\n",
    "print(s4)\n",
    "l = [\"hari\",\"hari\",\"srinu\",\"srinu\",\"siva\",\"siva\"]\n",
    "s5 = set(l)\n",
    "print(\"After removing duplicate obj:::\",s5)\n",
    "t =(\"pavan\",\"pavan\",\"pvrao\",\"pvrao\",\"svrao\",\"svrao\")\n",
    "s6 = set(t)\n",
    "print(s6)\n",
    "#intersection\n",
    "s8 = s1.intersection(s2)\n",
    "print(\"print s8 :\",s8)\n",
    "s7 =s1 & s2\n",
    "print(s7)\n",
    "\n",
    "#how to change actual set obj (s1) with common elements present in s2\n",
    "s1.intersection_update(s2)\n",
    "print(s1)\n",
    "\n",
    "#difference keeps items that are not present in set2.\n",
    "\n",
    "\n",
    " \n"
   ]
  },
  {
   "cell_type": "code",
   "execution_count": 24,
   "metadata": {},
   "outputs": [
    {
     "name": "stdout",
     "output_type": "stream",
     "text": [
      "{'hari', 'gopi', 'Anand'}\n",
      "{'hari', 'gopi'}\n",
      "{'hari', 'gopi'}\n",
      "{'hari', 'gopi', 'Anand'}\n",
      "{'hari', 'gopi'}\n",
      "new s4::: {'nani', 'suma', 'Anand'}\n",
      "new s1::: {'hari', 'gopi'}\n",
      "{'ravi', 'roja', 'avrao', 'svrao'}\n",
      "{'ravi', 'roja', 'pavan', 'ntr', 'avrao', 'svrao', 'chiru'}\n",
      "{'pavan', 'ntr', 'chiru'}\n",
      "{'ravi', 'roja', 'ntr', 'chiru'}\n"
     ]
    }
   ],
   "source": [
    "\n",
    "#difference keeps items that are not present in set2.\n",
    "\n",
    "s1 = {\"apple\",\"gopi\",\"hari\",\"Anand\"}\n",
    "s2 = {\"aws\",\"azure\",\"apple\",\"banana\"}\n",
    "s3 = s1.difference(s2)\n",
    "print(s3)\n",
    "s4 = {\"suma\",\"nani\",\"apple\",\"Anand\"}\n",
    "s5 = s1.difference(s2,s4)\n",
    "print(s5)\n",
    "# do by symbol -\n",
    "s6 = s1-s2-s4 # s1-s2 , s1-s4\n",
    "print(s6)\n",
    "#differeence_update --> it will update set1 with elements not present in set2 , but doesnt create a new set , represented by -=\n",
    "#how to change original set \n",
    "s1.difference_update(s2)\n",
    "print(s1)\n",
    "s1.difference_update(s2,s4)\n",
    "print(s1)\n",
    "s4-=s2\n",
    "print(\"new s4:::\",s4)\n",
    "s1 -= s2\n",
    "s1-=s4\n",
    "print(\"new s1:::\",s1)\n",
    "\n",
    "#smmetric_difference()\n",
    "#represented by ^ , it keeps an item those are not present in two sets , it wil return new set \n",
    "s10 = {\"pavan\",\"roja\",\"ravi\"}\n",
    "s11 = {\"pavan\",\"svrao\",\"avrao\"}\n",
    "s13 = {\"pavan\",\"chiru\",\"ntr\"}\n",
    "s12 = s10.symmetric_difference(s11)\n",
    "print(s12)\n",
    "s12 = s10.symmetric_difference(s11).symmetric_difference(s13)\n",
    "print(s12)\n",
    "s15 = s10 ^ s11 ^ s12\n",
    "print(s15)\n",
    "#smmetric_difference_update()\n",
    "#represented by =^ , it keeps an item those are not present in two sets , it will not return new set\n",
    "s12 ^= s11\n",
    "print(s12)\n"
   ]
  },
  {
   "cell_type": "code",
   "execution_count": 1,
   "metadata": {},
   "outputs": [
    {
     "name": "stdout",
     "output_type": "stream",
     "text": [
      "{1, 2, 3, 4, 5, 6, 7}\n"
     ]
    }
   ],
   "source": [
    "#frozen set --  represented by ({})\n",
    "# stores less memory\n",
    "x1 = ({1,2,3,3,4,5,5,6,7,7})\n",
    "print(x1)"
   ]
  }
 ],
 "metadata": {
  "kernelspec": {
   "display_name": "Python 3",
   "language": "python",
   "name": "python3"
  },
  "language_info": {
   "codemirror_mode": {
    "name": "ipython",
    "version": 3
   },
   "file_extension": ".py",
   "mimetype": "text/x-python",
   "name": "python",
   "nbconvert_exporter": "python",
   "pygments_lexer": "ipython3",
   "version": "3.11.9"
  }
 },
 "nbformat": 4,
 "nbformat_minor": 2
}
