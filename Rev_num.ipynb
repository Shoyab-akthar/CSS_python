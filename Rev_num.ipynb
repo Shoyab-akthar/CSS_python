{
 "cells": [
  {
   "cell_type": "code",
   "execution_count": 2,
   "metadata": {},
   "outputs": [
    {
     "name": "stdout",
     "output_type": "stream",
     "text": [
      "3\n",
      "3\n",
      "12\n",
      "2\n",
      "32\n",
      "1\n",
      "1\n",
      "321\n",
      "0\n",
      "=======\n",
      "321\n"
     ]
    }
   ],
   "source": [
    "# Rev number\n",
    "num =int(input(\"enter number\"))\n",
    "rev = 0\n",
    "while num!=0:\n",
    "    n1 = num % 10\n",
    "    print(n1)\n",
    "    rev = rev * 10 + n1\n",
    "    print(rev)\n",
    "    num = num // 10\n",
    "    print(num)\n",
    "print(\"=======\")\n",
    "print(rev)\n",
    "    "
   ]
  },
  {
   "cell_type": "code",
   "execution_count": 5,
   "metadata": {},
   "outputs": [
    {
     "name": "stdout",
     "output_type": "stream",
     "text": [
      "123 .... 321\n",
      "not palindrome\n"
     ]
    }
   ],
   "source": [
    "num =int(input(\"enter number\"))\n",
    "rev = 0\n",
    "n2=num\n",
    "while num!=0:\n",
    "    n1 = num % 10\n",
    "    rev = rev * 10 + n1\n",
    "    num = num // 10\n",
    "    \n",
    "if rev == n2:\n",
    "    print(n2, \"....\" ,rev)\n",
    "    print(\"palindrome\")\n",
    "    \n",
    "else:\n",
    "    print(n2, \"....\" ,rev)\n",
    "    print(\"not palindrome\")    \n"
   ]
  },
  {
   "cell_type": "code",
   "execution_count": 15,
   "metadata": {},
   "outputs": [
    {
     "name": "stdout",
     "output_type": "stream",
     "text": [
      "30375 :::::: not amstrong\n"
     ]
    }
   ],
   "source": [
    "# amstrong number  -- sum of digit cubes gives original value\n",
    "#num = int(input(\"entr number\"))\n",
    "s=0\n",
    "n2 = num\n",
    "# k1 = int(input(\" eter iterations\"))\n",
    "for num in range(0,150): #-- not zero\n",
    "    \n",
    "    n1 = num % 10    # ---gives lasst digit , if less than 10 returns same value  ex: 153 -- 3\n",
    "    s =s+( n1 * n1 * n1) # ----returns sum of the n1  cube value \n",
    "   \n",
    "    num = num // 10   # ---- gives untouched digits ex: 153 --15\n",
    "    \n",
    "if s == n2:\n",
    "    print(s,\"amstrong\")\n",
    "else:\n",
    "    print(s,\"::::::\", \"not amstrong\")\n",
    "    "
   ]
  }
 ],
 "metadata": {
  "kernelspec": {
   "display_name": "Python 3",
   "language": "python",
   "name": "python3"
  },
  "language_info": {
   "codemirror_mode": {
    "name": "ipython",
    "version": 3
   },
   "file_extension": ".py",
   "mimetype": "text/x-python",
   "name": "python",
   "nbconvert_exporter": "python",
   "pygments_lexer": "ipython3",
   "version": "3.11.9"
  }
 },
 "nbformat": 4,
 "nbformat_minor": 2
}
